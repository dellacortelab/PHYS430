{
  "nbformat": 4,
  "nbformat_minor": 0,
  "metadata": {
    "colab": {
      "provenance": [],
      "toc_visible": true,
      "authorship_tag": "ABX9TyPBgSQA+wt8AykP9ToeuiyY",
      "include_colab_link": true
    },
    "kernelspec": {
      "name": "python3",
      "display_name": "Python 3"
    },
    "language_info": {
      "name": "python"
    }
  },
  "cells": [
    {
      "cell_type": "markdown",
      "metadata": {
        "id": "view-in-github",
        "colab_type": "text"
      },
      "source": [
        "<a href=\"https://colab.research.google.com/github/dellacortelab/PHYS430/blob/main/lab8_PHSCS430_W2024_Della_Corte.ipynb\" target=\"_parent\"><img src=\"https://colab.research.google.com/assets/colab-badge.svg\" alt=\"Open In Colab\"/></a>"
      ]
    },
    {
      "cell_type": "markdown",
      "source": [
        "<img src='https://drive.google.com/uc?id=1KbqO8z8fj9vrr-c038BzeEGgfLbzukGG'>"
      ],
      "metadata": {
        "id": "DlAaVbp925e5"
      }
    },
    {
      "cell_type": "markdown",
      "source": [
        "<img src='https://drive.google.com/uc?id=1WrsSOddPpcMRfYFRDGClkLYvi_D9Glvt'>"
      ],
      "metadata": {
        "id": "AFPTxKDb5Kga"
      }
    },
    {
      "cell_type": "markdown",
      "source": [
        "<img src='https://drive.google.com/uc?id=1MHMXg-jOA190Q1BriPelCpwOtTWECB6p'>"
      ],
      "metadata": {
        "id": "GWjqdAr359he"
      }
    },
    {
      "cell_type": "code",
      "source": [],
      "metadata": {
        "id": "UbwiPNPd8HQ5"
      },
      "execution_count": null,
      "outputs": []
    },
    {
      "cell_type": "markdown",
      "source": [
        "<img src='https://drive.google.com/uc?id=1sKeaNUEhu8t2lKaE7xe5_UqLQPwznMh9'>"
      ],
      "metadata": {
        "id": "50w8PhDf6QMz"
      }
    },
    {
      "cell_type": "markdown",
      "source": [
        "<img src='https://drive.google.com/uc?id=1MzStgvo2yoxmQY_XDMJ_Ox_6fmnu3geY'>"
      ],
      "metadata": {
        "id": "gLXY_KFY6QFB"
      }
    },
    {
      "cell_type": "markdown",
      "source": [
        "<img src='https://drive.google.com/uc?id=1-hqlmqoDB0mgz3IAC4PtobOpIIQU3Bmm'>"
      ],
      "metadata": {
        "id": "6jhYflnb7bnI"
      }
    },
    {
      "cell_type": "markdown",
      "source": [
        "<img src='https://drive.google.com/uc?id=14ySSVi3XdHeUZCl0AGfHL1T0SG8xADSF'>"
      ],
      "metadata": {
        "id": "J4bC5TpI7yC8"
      }
    },
    {
      "cell_type": "markdown",
      "source": [
        "<img src='https://drive.google.com/uc?id=1RLkuiAtAU2WzOBhXZe8iipAKg8ty4Ap5'>"
      ],
      "metadata": {
        "id": "sYEa3GDV6P4C"
      }
    },
    {
      "cell_type": "code",
      "source": [],
      "metadata": {
        "id": "wFAURaRt8FVT"
      },
      "execution_count": null,
      "outputs": []
    },
    {
      "cell_type": "markdown",
      "source": [
        "<img src='https://drive.google.com/uc?id=1Q5pb8lbAPz-8ZBVi6H_o25FbucdkPIEL'>"
      ],
      "metadata": {
        "id": "XXNIcfyB6Ptu"
      }
    },
    {
      "cell_type": "code",
      "source": [],
      "metadata": {
        "id": "mWXg9dLM8ZA5"
      },
      "execution_count": null,
      "outputs": []
    },
    {
      "cell_type": "markdown",
      "source": [
        "<img src='https://drive.google.com/uc?id=1AMkjDFGf-VB1JaWTvbsAbh0bTOxMpRwa'>"
      ],
      "metadata": {
        "id": "qJmVO5jN6Pcj"
      }
    },
    {
      "cell_type": "markdown",
      "source": [
        "<img src='https://drive.google.com/uc?id=1G7AHPiWpyyARfzQSuXnbwxmvUoZIgXep'>"
      ],
      "metadata": {
        "id": "4YN2u0Tb8bmB"
      }
    },
    {
      "cell_type": "code",
      "source": [],
      "metadata": {
        "id": "SmN-HWN-9DAb"
      },
      "execution_count": null,
      "outputs": []
    },
    {
      "cell_type": "markdown",
      "source": [
        "<img src='https://drive.google.com/uc?id=1ZY4JwUaFUUGZKT4z02D4fKo69kKeWK7F'>"
      ],
      "metadata": {
        "id": "YlzbTkOl8b09"
      }
    },
    {
      "cell_type": "markdown",
      "source": [
        "<img src='https://drive.google.com/uc?id=1q6zzEQILTt7MZ7tkUZPjpGidctpQG4ud'>"
      ],
      "metadata": {
        "id": "0OVHnYys8cRB"
      }
    },
    {
      "cell_type": "markdown",
      "source": [
        "<img src='https://drive.google.com/uc?id=1HMgfYbVz5bTijcCQTqmWDRJPlyZ99Z_2'>"
      ],
      "metadata": {
        "id": "_SG-VBPu8cil"
      }
    },
    {
      "cell_type": "code",
      "source": [],
      "metadata": {
        "id": "Ev86hQVl9rmJ"
      },
      "execution_count": null,
      "outputs": []
    },
    {
      "cell_type": "markdown",
      "source": [
        "<img src='https://drive.google.com/uc?id=1ei65I6AS5nAgJt4IxV55OzWJlq_EtKqt'>"
      ],
      "metadata": {
        "id": "BrrcezPn8dKB"
      }
    },
    {
      "cell_type": "markdown",
      "source": [
        "<img src='https://drive.google.com/uc?id=1s9MPOW1xvytnByr3tvLTNih5ypaDMhz9'>"
      ],
      "metadata": {
        "id": "Ofy_TL6q8dZz"
      }
    },
    {
      "cell_type": "markdown",
      "source": [
        "<img src='https://drive.google.com/uc?id=1fZr8wWnhFhSiz_65MPSHZKL8vmBwXiYP'>"
      ],
      "metadata": {
        "id": "Evj-hSkX8dqS"
      }
    },
    {
      "cell_type": "code",
      "source": [],
      "metadata": {
        "id": "gawEyX7G-T4A"
      },
      "execution_count": null,
      "outputs": []
    },
    {
      "cell_type": "markdown",
      "source": [
        "<img src='https://drive.google.com/uc?id=1E3TU_Z15CBWACOxnPJEMFRsGflG6I0xU'>"
      ],
      "metadata": {
        "id": "YaXCu9PA8d7H"
      }
    },
    {
      "cell_type": "code",
      "source": [],
      "metadata": {
        "id": "eDDf80v9-m3g"
      },
      "execution_count": null,
      "outputs": []
    }
  ]
}