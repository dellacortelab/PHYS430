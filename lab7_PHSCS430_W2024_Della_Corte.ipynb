{
  "nbformat": 4,
  "nbformat_minor": 0,
  "metadata": {
    "colab": {
      "provenance": [],
      "toc_visible": true,
      "include_colab_link": true
    },
    "kernelspec": {
      "name": "python3",
      "display_name": "Python 3"
    },
    "language_info": {
      "name": "python"
    }
  },
  "cells": [
    {
      "cell_type": "markdown",
      "metadata": {
        "id": "view-in-github",
        "colab_type": "text"
      },
      "source": [
        "<a href=\"https://colab.research.google.com/github/dellacortelab/PHYS430/blob/main/lab7_PHSCS430_W2024_Della_Corte.ipynb\" target=\"_parent\"><img src=\"https://colab.research.google.com/assets/colab-badge.svg\" alt=\"Open In Colab\"/></a>"
      ]
    },
    {
      "cell_type": "markdown",
      "source": [
        "#**P7.1**"
      ],
      "metadata": {
        "id": "crLZOwuv0kVe"
      }
    },
    {
      "cell_type": "markdown",
      "source": [
        "## Problem 7.1 (a)\n",
        "Modify one of your staggered leapfrog programs that uses a cell-center grid to implement Eq. (7.10) to solve the diffusion equation on the interval $[0, L]$ with initial distribution\n",
        "\n",
        "$$ T(x, 0) = \\sin\\left(\\frac{\\pi x}{L}\\right) \\tag{7.11}$$\n",
        "\n",
        "and boundary conditions $ T(0) = T(L) = 0 $. Use $ D = 2 $, $ L = 3 $, and $ N = 20 $. You don’t need to make a space-time surface plot like Fig. 7.1. Just make a line plot that updates each time step as we’ve done previously. This algorithm has a CFL condition on the time step $ \\tau $ of the form\n",
        "\n",
        "$$ \\tau \\leq C\\frac{h^2}{D} \\tag{7.12}$$\n",
        "\n",
        "Determine the value of C by numerical experimentation.\n",
        "Test the accuracy of your numerical solution by overlaying a graph of the analytic solution. Plot the numerical solution as points and the exact solution as a line so you can tell the difference. Show that your grid solution matches the exact solution with increasing accuracy as the number of grid points $ N $ is increased from 20 to 40 and then to 80. You can calculate the RMS error using something like:\n",
        "\n",
        "    error = np.sqrt(np.mean((T - exact)**2))\n",
        "  "
      ],
      "metadata": {
        "id": "4eAVpARraRqf"
      }
    },
    {
      "cell_type": "code",
      "source": [],
      "metadata": {
        "id": "QWL_up4McQKE"
      },
      "execution_count": null,
      "outputs": []
    },
    {
      "cell_type": "markdown",
      "source": [
        "## Problem 7.1 (b)\n",
        "Get a feel for what the diffusion coefficient does by trying several different values for $ D $ in your code. Give a physical description of this parameter to the TA.\n"
      ],
      "metadata": {
        "id": "S3-bZIZDfJLF"
      }
    },
    {
      "cell_type": "code",
      "source": [],
      "metadata": {
        "id": "f_66jAqxfNyi"
      },
      "execution_count": null,
      "outputs": []
    },
    {
      "cell_type": "markdown",
      "source": [
        "## Problem 7.1 (c)\n",
        "Now switch your boundary conditions to be insulating, with $ \\frac{\\partial T}{\\partial x} = 0 $ at both ends. Explain what these two types of boundary conditions mean by thinking about a watermelon that is warmer in the middle than at the edge. Tell physically how you would impose both of these boundary conditions (specifying the value and specifying the derivative) on the watermelon and explain what the temperature history of the watermelon has to do with your plots of $ T(x) $ vs. time.\n"
      ],
      "metadata": {
        "id": "Wnkrhy0LfO7t"
      }
    },
    {
      "cell_type": "code",
      "source": [],
      "metadata": {
        "id": "vyRXZPu1fSE0"
      },
      "execution_count": null,
      "outputs": []
    },
    {
      "cell_type": "markdown",
      "source": [
        "#**P7.2**"
      ],
      "metadata": {
        "id": "wJOpcQOiQVHM"
      }
    },
    {
      "cell_type": "markdown",
      "source": [
        "## Problem 7.2 (a)\n",
        "$$\\frac{dy}{dt} = -y \\tag{7.13}$$\n",
        "Write a program to solve this equation using Euler's method:\n",
        "$$ y_{n+1} = y_n - \\tau y_n \\tag{7.14}$$\n",
        "\n",
        "The program to solve for $y$ using Euler’s method is only a few lines of code (like less than 10 lines, including the plot command). Here are the first few lines:\n",
        "\n",
        "    tau = 0.5\n",
        "    tmax = 20.\n",
        "    t = np.arange(0, tmax, tau)\n",
        "    y = np.zeros_like(t)\n",
        "\n",
        "Show by numerical experimentation that Euler’s method is unstable for large $\\tau$. You should find that the algorithm that is unstable if $\\tau > 2$. Use $y(0) = 1$ as your initial condition. This is an example of an explicit method."
      ],
      "metadata": {
        "id": "bgbXER2xT_kO"
      }
    },
    {
      "cell_type": "code",
      "source": [],
      "metadata": {
        "id": "O-ZNWJKsUAVJ"
      },
      "execution_count": null,
      "outputs": []
    },
    {
      "cell_type": "markdown",
      "source": [
        "## Problem 7.2 (b)\n",
        "Notice that the left side of Eq. (7.14) is centered on time $t_{n + \\frac{1}{2}}$, but the right side is centered on $t_n$. Fix this by centering the right-hand side at time $t_{n + \\frac{1}{2}}$ by using an average of the advanced and current values of y,\n",
        "\n",
        "$$ y_n \\Rightarrow \\frac{y_n + y_{n+1}}{2}. $$\n",
        "\n",
        "Modify your program to implement this fix, then show by numerical experimentation that when $\\tau$ becomes large this method doesn't blow up. It isn’t correct because $y_n$ bounces between positive and negative values, but at least it doesn’t blow up. The presence of $\\tau$ in the denominator is the tip-off that this is an implicit method, and the improved stability is the point of using something implicit.\n"
      ],
      "metadata": {
        "id": "rsmVJKltxddU"
      }
    },
    {
      "cell_type": "code",
      "source": [],
      "metadata": {
        "id": "lURhF7TUzWLG"
      },
      "execution_count": null,
      "outputs": []
    },
    {
      "cell_type": "markdown",
      "source": [
        "## Problem 7.2 (c)\n",
        "\n",
        "Now Modify Euler’s method by making it *fully implicit* by using $y_{n+1}$ in place of $y_n$ on the right side of Eq. $(7.14)$ (this makes both sides of the equation reach into the future). This method is no more accurate than Euler’s method for small time steps, but it is much more stable and it doesn’t bounce between positive and negative values.\n",
        "\n",
        "Show by numerical experimentation in a modified program that this fully implicit method damps even when $\\tau$ is large. For instance, see what happens if you choose $\\tau = 5$ with a final time of 20 seconds. The time-centered method of part (b) would bounce and damp, but you should see that the fully implicit method just damps. It’s terribly inaccurate, and actually doesn’t even damp as fast as the exact solution, but at least it doesn’t bounce like part (b) or go to infinity like part (a). Methods like this are said to be “absolutely stable”. Of course, it makes no sense to choose really large time steps, like $\\tau = 100$ when you only want to run the solution out to 10 seconds."
      ],
      "metadata": {
        "id": "nofrxmQLzWrI"
      }
    },
    {
      "cell_type": "code",
      "source": [],
      "metadata": {
        "id": "FOe6Zd3T0Rb2"
      },
      "execution_count": null,
      "outputs": []
    },
    {
      "cell_type": "markdown",
      "source": [
        "#**P7.3**"
      ],
      "metadata": {
        "id": "WBl5nY5f0a6B"
      }
    },
    {
      "cell_type": "markdown",
      "source": [
        "## Problem 7.3 (a)\n",
        "\n",
        "Write a program that implements the Crank-Nicolson algorithm with fixed-edge boundary conditions, $T(0) = 0$ and $T(L) = 0$. Test your program by running it with $D = 2$ and an initial temperature given by $T(x) = \\sin\\left(\\frac{\\pi x}{L}\\right)$. Try various values of $\\tau$ and see how it compares with the exact solution. Verify that when the time step is too large the solution is inaccurate, but still stable. To do the checks at large time step you will need to use a long run time and not skip any steps in the plotting.\n"
      ],
      "metadata": {
        "id": "4vYCzi2y02Dg"
      }
    },
    {
      "cell_type": "code",
      "source": [],
      "metadata": {
        "id": "icYJVdxS1bje"
      },
      "execution_count": null,
      "outputs": []
    },
    {
      "cell_type": "markdown",
      "source": [
        "## Problem 7.3 (b)\n",
        "\n",
        "Now study the accuracy of this algorithm by using various values of the cell number $N$ and the time step $\\tau$. For each pair of choices run for $t = 5 \\text{ s}$ and find the maximum difference between the exact and numerical solutions. You should find that the time step $\\tau$ matters less than $N$. The number of cells $N$ is the more important parameter for high accuracy in diffusion problems solved with Crank-Nicolson.\n"
      ],
      "metadata": {
        "id": "QhKHLiVs1cC1"
      }
    },
    {
      "cell_type": "code",
      "source": [],
      "metadata": {
        "id": "rqfwMOWy1t4L"
      },
      "execution_count": null,
      "outputs": []
    },
    {
      "cell_type": "markdown",
      "source": [
        "## Problem 7.3 (c)\n",
        "\n",
        "Modify the Crank-Nicolson program to use boundary conditions $\\frac{\\partial T}{\\partial x} = 0$ at the ends. Run with the same initial condition as in part (a) (which does not satisfy these boundary conditions) and watch what happens. Zoom in on the plots early in time to see what happens in the first few grid points during the first few time steps.\n"
      ],
      "metadata": {
        "id": "DgidOdgM1u6O"
      }
    },
    {
      "cell_type": "code",
      "source": [],
      "metadata": {
        "id": "7lXA-iL72I8s"
      },
      "execution_count": null,
      "outputs": []
    }
  ]
}